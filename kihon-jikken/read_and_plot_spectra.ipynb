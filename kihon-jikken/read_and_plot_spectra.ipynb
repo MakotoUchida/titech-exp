{
 "cells": [
  {
   "cell_type": "markdown",
   "metadata": {},
   "source": [
    "# スペクトルデータを読み込んで描画するスクリプト例\n",
    "\n",
    "データファアイル`cut_H.png.red(green/blue).csv`を読み込んで、`ROOT.TGraph()`で表示するマクロ  \n",
    " red,green,blue をそれぞれ `pandas.DataFrame`に読み込んでグラフを作成"
   ]
  },
  {
   "cell_type": "code",
   "execution_count": null,
   "metadata": {},
   "outputs": [],
   "source": [
    "import numpy as np\n",
    "import pandas as pd"
   ]
  },
  {
   "cell_type": "code",
   "execution_count": null,
   "metadata": {},
   "outputs": [],
   "source": [
    "import ROOT"
   ]
  },
  {
   "cell_type": "markdown",
   "metadata": {},
   "source": [
    "`pandas.read_csv()`を用いてcsvファイルのデータを読み込む。"
   ]
  },
  {
   "cell_type": "code",
   "execution_count": null,
   "metadata": {},
   "outputs": [],
   "source": [
    "df_r = pd.read_csv('cut_H.png.red.csv',header=None,delim_whitespace=True,names=['ch','n'])\n",
    "df_g = pd.read_csv('cut_H.png.green.csv',header=None,delim_whitespace=True,names=['ch','n'])\n",
    "df_b = pd.read_csv('cut_H.png.blue.csv',header=None,delim_whitespace=True,names=['ch','n'])"
   ]
  },
  {
   "cell_type": "markdown",
   "metadata": {},
   "source": [
    "読み込まれたデータの確認"
   ]
  },
  {
   "cell_type": "code",
   "execution_count": null,
   "metadata": {},
   "outputs": [],
   "source": [
    "print(df_r)"
   ]
  },
  {
   "cell_type": "markdown",
   "metadata": {},
   "source": [
    "# ROOT TGraphを用いて描画"
   ]
  },
  {
   "cell_type": "code",
   "execution_count": null,
   "metadata": {},
   "outputs": [],
   "source": [
    "x_r = np.array(df_r.ch,dtype=\"float\")\n",
    "y_r = np.array(df_r.n,dtype=\"float\")\n",
    "\n",
    "x_g = np.array(df_g.ch,dtype=\"float\")\n",
    "y_g = np.array(df_g.n,dtype=\"float\")\n",
    "\n",
    "x_b = np.array(df_b.ch,dtype=\"float\")\n",
    "y_b = np.array(df_b.n,dtype=\"float\")\n",
    "\n",
    "\n",
    "c1 = ROOT.TCanvas('c1','',400,400)\n",
    "\n",
    "graph_r = ROOT.TGraph(len(y_r),x_r,y_r)  # red\n",
    "graph_r.SetTitle(\";pixel number;counts\")\n",
    "graph_r.SetLineColor(ROOT.kRed)\n",
    "graph_r.SetMarkerColor(ROOT.kRed)\n",
    "graph_g = ROOT.TGraph(len(y_g),x_g,y_g) # green\n",
    "graph_g.SetTitle(\";pixel number;counts\")\n",
    "graph_g.SetLineColor(ROOT.kGreen)\n",
    "graph_g.SetMarkerColor(ROOT.kGreen)\n",
    "graph_b = ROOT.TGraph(len(y_b),x_b,y_b) # blue\n",
    "graph_b.SetTitle(\";pixel number;counts\")\n",
    "graph_b.SetLineColor(ROOT.kBlue)\n",
    "graph_b.SetMarkerColor(ROOT.kBlue)\n",
    "graph_r.Draw(\"APl\")\n",
    "graph_g.Draw(\"Pl\")\n",
    "graph_b.Draw(\"Pl\")\n",
    "# gr.Draw()                 \n",
    "c1.Draw()\n",
    "# c1.SaveAs(\"H_blue.png\");"
   ]
  },
  {
   "cell_type": "markdown",
   "metadata": {},
   "source": [
    "# matplotlibで描画する方法"
   ]
  },
  {
   "cell_type": "code",
   "execution_count": null,
   "metadata": {},
   "outputs": [],
   "source": [
    "import matplotlib.pyplot as plt\n",
    "plt.plot(df_r.ch,df_r.n,color=\"red\")\n",
    "plt.plot(df_g.ch,df_g.n,color=\"green\")\n",
    "plt.plot(df_b.ch,df_b.n,color=\"blue\")\n",
    "plt.xlabel('pixel number')\n",
    "plt.ylabel('count')"
   ]
  },
  {
   "cell_type": "code",
   "execution_count": null,
   "metadata": {},
   "outputs": [],
   "source": []
  }
 ],
 "metadata": {
  "kernelspec": {
   "display_name": "Python 3 (ipykernel)",
   "language": "python",
   "name": "python3"
  },
  "language_info": {
   "codemirror_mode": {
    "name": "ipython",
    "version": 3
   },
   "file_extension": ".py",
   "mimetype": "text/x-python",
   "name": "python",
   "nbconvert_exporter": "python",
   "pygments_lexer": "ipython3",
   "version": "3.9.11"
  }
 },
 "nbformat": 4,
 "nbformat_minor": 4
}
