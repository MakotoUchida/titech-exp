{
 "cells": [
  {
   "cell_type": "code",
   "execution_count": null,
   "metadata": {},
   "outputs": [],
   "source": [
    "import numpy as np\n",
    "import ROOT"
   ]
  },
  {
   "cell_type": "code",
   "execution_count": null,
   "metadata": {},
   "outputs": [],
   "source": [
    "f = ROOT.TFile(\"2020_Co_coin.root\")"
   ]
  },
  {
   "cell_type": "code",
   "execution_count": null,
   "metadata": {},
   "outputs": [],
   "source": [
    "f.ls()"
   ]
  },
  {
   "cell_type": "code",
   "execution_count": null,
   "metadata": {},
   "outputs": [],
   "source": [
    "h1_adc0 = f.Get('h1_adc0')\n",
    "h1_adc1 = f.Get('h1_adc1')\n",
    "h2_adc = f.Get('h2_adc')\n",
    "h1_sca = f.Get('h1_sca')"
   ]
  },
  {
   "cell_type": "code",
   "execution_count": null,
   "metadata": {},
   "outputs": [],
   "source": [
    "c = ROOT.TCanvas('c','',400,400)"
   ]
  },
  {
   "cell_type": "code",
   "execution_count": null,
   "metadata": {},
   "outputs": [],
   "source": [
    "h1_adc0.Draw()\n",
    "c.Draw()"
   ]
  },
  {
   "cell_type": "code",
   "execution_count": null,
   "metadata": {},
   "outputs": [],
   "source": [
    "h1_adc1.Draw()\n",
    "c.Draw()"
   ]
  },
  {
   "cell_type": "code",
   "execution_count": null,
   "metadata": {},
   "outputs": [],
   "source": [
    "h2_adc.Draw('colz')\n",
    "c.Draw()"
   ]
  },
  {
   "cell_type": "code",
   "execution_count": null,
   "metadata": {},
   "outputs": [],
   "source": [
    "h1_sca.Draw()\n",
    "c.Draw()"
   ]
  },
  {
   "cell_type": "code",
   "execution_count": null,
   "metadata": {},
   "outputs": [],
   "source": [
    "t = f.Get('raw_data')"
   ]
  },
  {
   "cell_type": "code",
   "execution_count": null,
   "metadata": {},
   "outputs": [],
   "source": [
    "t.Print()"
   ]
  },
  {
   "cell_type": "markdown",
   "metadata": {},
   "source": [
    "あとは`C++ROOT`と同様にループ回すことができる。"
   ]
  },
  {
   "cell_type": "code",
   "execution_count": null,
   "metadata": {},
   "outputs": [],
   "source": [
    "hh = ROOT.TH1F('hh','',2000,0,2000)\n",
    "n = t.GetEntries()\n",
    "print(n)\n",
    "for i in range(n):\n",
    "    t.GetEntry(i)\n",
    "    if (500<t.adc1<800) and t.adc0>300:\n",
    "        hh.Fill(t.adc0)\n",
    "        "
   ]
  },
  {
   "cell_type": "code",
   "execution_count": null,
   "metadata": {},
   "outputs": [],
   "source": [
    "hh.Draw()\n",
    "c.Draw()"
   ]
  },
  {
   "cell_type": "code",
   "execution_count": null,
   "metadata": {},
   "outputs": [],
   "source": [
    "from scipy.special import erfc\n",
    "import math\n",
    "\n",
    "def func(x, p):\n",
    "    g0 = p[0]*np.exp(-(x[0]-p[1])**2/2/p[2]**2) \n",
    "    g1 = p[3]*np.exp(-(x[0]-p[4])**2/2/p[5]**2) \n",
    "    a1 = 0.5*(p[6]*(x[0]**2+p[9]**2)+p[7]*x[0]+p[8])\n",
    "    b1 = -(p[9]/np.sqrt(2*math.pi))*p[6]*(x[0]+p[10])+p[7]\n",
    "    c1 = a1*erfc((x[0]-p[10])/np.sqrt(2)/p[9])+b1*np.exp(-(x[0]-p[10])**2/2/p[9]**2)\n",
    "    return g0+g1+c1\n",
    "    "
   ]
  },
  {
   "cell_type": "code",
   "execution_count": null,
   "metadata": {},
   "outputs": [],
   "source": [
    "import numpy as np\n",
    "fun = ROOT.TF1('fun',func,200,1400,11)\n",
    "par = np.array([400,1100,20,300,1180,20,0.001,-1,350,100,800])\n",
    "[fun.SetParameter(i,par[i]) for i in range(11)]\n",
    "fun.SetParLimits(0,0,600)\n",
    "fun.SetParLimits(1,1000,1150)\n",
    "fun.SetParLimits(3,0,600)\n",
    "fun.SetParLimits(4,1150,1250)"
   ]
  },
  {
   "cell_type": "code",
   "execution_count": null,
   "metadata": {},
   "outputs": [],
   "source": [
    "hh.Fit(fun,'S','',300,1400)\n",
    "# hh.Fit('pol2','S','',300,700)"
   ]
  },
  {
   "cell_type": "code",
   "execution_count": null,
   "metadata": {},
   "outputs": [],
   "source": [
    "hh.Draw()\n",
    "c.Draw()"
   ]
  },
  {
   "cell_type": "markdown",
   "metadata": {},
   "source": [
    "# コンプトン端のエネルギーの計算"
   ]
  },
  {
   "cell_type": "code",
   "execution_count": null,
   "metadata": {},
   "outputs": [],
   "source": [
    "energies = [1.173,1.333] # MeV"
   ]
  },
  {
   "cell_type": "code",
   "execution_count": null,
   "metadata": {},
   "outputs": [],
   "source": [
    "for hnu in energies:\n",
    "    Emax = hnu*(2*hnu/0.511)/(1+2*hnu/0.511)\n",
    "    print(Emax)"
   ]
  },
  {
   "cell_type": "markdown",
   "metadata": {},
   "source": [
    "$h\\nu = 1.173$ MeVのコンプトン端を850chとして$E_\\gamma$とチャンネルの対応関係を図示する。"
   ]
  },
  {
   "cell_type": "code",
   "execution_count": null,
   "metadata": {},
   "outputs": [],
   "source": [
    "energies = np.array([0.963,1.173,1.333],dtype=\"float\")\n",
    "chs = np.array([850,1056,1181],dtype=\"float\")\n",
    "gr = ROOT.TGraph(len(chs),energies,chs)\n",
    "gr.SetTitle(\";energy (MeV);channel\")\n",
    "gr.SetMarkerSize(2)\n",
    "gr.Fit('pol1')\n",
    "gr.Draw('AP*')\n",
    "c.Draw()"
   ]
  },
  {
   "cell_type": "code",
   "execution_count": 1,
   "metadata": {},
   "outputs": [],
   "source": [
    "import math\n",
    "x0 = 1\n",
    "y0 = 1\n",
    "R = math.sqrt(x0**2+y0**2)\n"
   ]
  },
  {
   "cell_type": "code",
   "execution_count": 2,
   "metadata": {},
   "outputs": [],
   "source": [
    "import numpy as np\n",
    "import matplotlib.pyplot as plt"
   ]
  },
  {
   "cell_type": "code",
   "execution_count": 6,
   "metadata": {},
   "outputs": [
    {
     "name": "stdout",
     "output_type": "stream",
     "text": [
      "0.2687870549763063 0.22968134246639207\n"
     ]
    },
    {
     "data": {
      "text/plain": [
       "[<matplotlib.lines.Line2D at 0x154255fd0>]"
      ]
     },
     "execution_count": 6,
     "metadata": {},
     "output_type": "execute_result"
    },
    {
     "data": {
      "image/png": "[encoded data removed]",
      "text/plain": [
       "<Figure size 432x288 with 1 Axes>"
      ]
     },
     "metadata": {
      "needs_background": "light"
     },
     "output_type": "display_data"
    }
   ],
   "source": [
    "u = np.linspace(-10,10)\n",
    "cq = np.cos(x0/R)\n",
    "sq = np.sin(y0/R)\n",
    "v = (-cq/sq)*u+(1/2/R/sq)\n",
    "plt.plot(u,v)\n",
    "u0=cq/2/R\n",
    "v0 = sq/2/R\n",
    "print(u0,v0)\n",
    "plt.plot(u0,v0,'ro')"
   ]
  },
  {
   "cell_type": "code",
   "execution_count": null,
   "metadata": {},
   "outputs": [],
   "source": []
  }
 ],
 "metadata": {
  "kernelspec": {
   "display_name": "Python 3 (ipykernel)",
   "language": "python",
   "name": "python3"
  },
  "language_info": {
   "codemirror_mode": {
    "name": "ipython",
    "version": 3
   },
   "file_extension": ".py",
   "mimetype": "text/x-python",
   "name": "python",
   "nbconvert_exporter": "python",
   "pygments_lexer": "ipython3",
   "version": "3.9.11"
  }
 },
 "nbformat": 4,
 "nbformat_minor": 4
}
